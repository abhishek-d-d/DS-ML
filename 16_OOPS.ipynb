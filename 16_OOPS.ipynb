{
 "cells": [
  {
   "cell_type": "markdown",
   "id": "36a384a2",
   "metadata": {},
   "source": [
    "# OOPS - Object Oriented Programming Style\n",
    "\n",
    "    * Object-oriented programming aims to impliment real world entities like inheritance, hiding, Polymorphism in programming. The main aim of the oops is to bind together the data and the functions that operates on them so that no other part of code can operate on this code except that function.\n",
    "    * Classes and Objects are two main aspacts of OOPS.\n",
    "    * Classes are user defined blueprints that helps us create an object.\n",
    "    * Objects are instances of a perticular class."
   ]
  },
  {
   "cell_type": "code",
   "execution_count": 1,
   "id": "4c0b9feb",
   "metadata": {},
   "outputs": [],
   "source": [
    "class Car:\n",
    "    name = \"Maruti 800\"\n",
    "    color = \"Red\"\n",
    "    age = 2\n",
    "    \n",
    "# Class with default values"
   ]
  },
  {
   "cell_type": "code",
   "execution_count": 7,
   "id": "8d5eb64a",
   "metadata": {},
   "outputs": [],
   "source": [
    "maruti = Car()  # construct an object of class Car and ther return it and assign it to benz variable"
   ]
  },
  {
   "cell_type": "code",
   "execution_count": 9,
   "id": "352db32a",
   "metadata": {},
   "outputs": [
    {
     "data": {
      "text/plain": [
       "<__main__.Car at 0x1399ad82c80>"
      ]
     },
     "execution_count": 9,
     "metadata": {},
     "output_type": "execute_result"
    }
   ],
   "source": [
    "maruti"
   ]
  },
  {
   "cell_type": "code",
   "execution_count": 10,
   "id": "fdfd1999",
   "metadata": {},
   "outputs": [
    {
     "data": {
      "text/plain": [
       "'Maruti 800'"
      ]
     },
     "execution_count": 10,
     "metadata": {},
     "output_type": "execute_result"
    }
   ],
   "source": [
    "maruti.name"
   ]
  },
  {
   "cell_type": "raw",
   "id": "694d49f2",
   "metadata": {},
   "source": []
  },
  {
   "cell_type": "markdown",
   "id": "488ee8c1",
   "metadata": {},
   "source": []
  },
  {
   "cell_type": "code",
   "execution_count": 11,
   "id": "d9ed7666",
   "metadata": {},
   "outputs": [
    {
     "data": {
      "text/plain": [
       "'Red'"
      ]
     },
     "execution_count": 11,
     "metadata": {},
     "output_type": "execute_result"
    }
   ],
   "source": [
    "maruti.color"
   ]
  },
  {
   "cell_type": "raw",
   "id": "584822ae",
   "metadata": {},
   "source": []
  },
  {
   "cell_type": "markdown",
   "id": "fe0754c7",
   "metadata": {},
   "source": []
  },
  {
   "cell_type": "code",
   "execution_count": 12,
   "id": "3df75952",
   "metadata": {},
   "outputs": [
    {
     "data": {
      "text/plain": [
       "2"
      ]
     },
     "execution_count": 12,
     "metadata": {},
     "output_type": "execute_result"
    }
   ],
   "source": [
    "maruti.age"
   ]
  },
  {
   "cell_type": "code",
   "execution_count": 26,
   "id": "2dd5c9ce",
   "metadata": {},
   "outputs": [],
   "source": [
    "benz = Car()"
   ]
  },
  {
   "cell_type": "code",
   "execution_count": 14,
   "id": "510d31dd",
   "metadata": {},
   "outputs": [],
   "source": [
    "benz.name = \"Mercedes\"\n",
    "benz.color = \"Silver\"\n",
    "benz.age = 3"
   ]
  },
  {
   "cell_type": "code",
   "execution_count": 15,
   "id": "9d02c45f",
   "metadata": {
    "scrolled": true
   },
   "outputs": [
    {
     "name": "stdout",
     "output_type": "stream",
     "text": [
      "Mercedes Silver 3\n"
     ]
    }
   ],
   "source": [
    "print(benz.name, benz.color, benz.age)"
   ]
  },
  {
   "cell_type": "code",
   "execution_count": 28,
   "id": "8c59ad0f",
   "metadata": {},
   "outputs": [
    {
     "name": "stdout",
     "output_type": "stream",
     "text": [
      "Maruti 800 Red 2\n"
     ]
    }
   ],
   "source": [
    "print(maruti.name, maruti.color, maruti.age)"
   ]
  },
  {
   "cell_type": "code",
   "execution_count": 27,
   "id": "7ee25c12",
   "metadata": {},
   "outputs": [],
   "source": [
    "benz.name = \"Mercedes\"\n",
    "benz.color = \"Silver\"\n",
    "benz.age = 3\n",
    "benz.fuel = \"Petrol\""
   ]
  },
  {
   "cell_type": "code",
   "execution_count": 29,
   "id": "6c588ed5",
   "metadata": {},
   "outputs": [
    {
     "name": "stdout",
     "output_type": "stream",
     "text": [
      "Mercedes Silver 3 Petrol\n"
     ]
    }
   ],
   "source": [
    "print(benz.name, benz.color, benz.age, benz.fuel)"
   ]
  },
  {
   "cell_type": "markdown",
   "id": "78df3691",
   "metadata": {},
   "source": [
    "### In python we can add n number of properties to an object in RUNTIME means we do not have to declear it in the class"
   ]
  },
  {
   "cell_type": "code",
   "execution_count": null,
   "id": "e70c8674",
   "metadata": {},
   "outputs": [],
   "source": []
  },
  {
   "cell_type": "code",
   "execution_count": 20,
   "id": "b7f59e7f",
   "metadata": {},
   "outputs": [],
   "source": [
    "# Creating empty class\n",
    "# Create an blueprint of Car without anything in it\n",
    "class Car:\n",
    "    pass"
   ]
  },
  {
   "cell_type": "code",
   "execution_count": 22,
   "id": "f5dc06fb",
   "metadata": {},
   "outputs": [],
   "source": [
    "class Car:\n",
    "    name = \"Maruti 800\"\n",
    "    color = \"Red\"\n",
    "    age = 2\n",
    "    \n",
    "    \n",
    "    def describe(self):\n",
    "        print(\"This is a Car function. Describe Cars here.\")\n",
    "        "
   ]
  },
  {
   "cell_type": "code",
   "execution_count": 24,
   "id": "758eaae4",
   "metadata": {},
   "outputs": [],
   "source": [
    "maruti = Car()"
   ]
  },
  {
   "cell_type": "code",
   "execution_count": 25,
   "id": "b5032eb3",
   "metadata": {},
   "outputs": [
    {
     "name": "stdout",
     "output_type": "stream",
     "text": [
      "This is a Car function. Describe Cars here.\n"
     ]
    }
   ],
   "source": [
    "maruti.describe()"
   ]
  },
  {
   "cell_type": "code",
   "execution_count": 30,
   "id": "a0f52b97",
   "metadata": {},
   "outputs": [
    {
     "name": "stdout",
     "output_type": "stream",
     "text": [
      "This is a Car function. Describe Cars here.\n"
     ]
    }
   ],
   "source": [
    "benz.describe()"
   ]
  },
  {
   "cell_type": "code",
   "execution_count": null,
   "id": "1c8142a5",
   "metadata": {},
   "outputs": [],
   "source": []
  },
  {
   "cell_type": "code",
   "execution_count": null,
   "id": "2a0d63d1",
   "metadata": {},
   "outputs": [],
   "source": []
  },
  {
   "cell_type": "code",
   "execution_count": null,
   "id": "83285d50",
   "metadata": {},
   "outputs": [],
   "source": []
  },
  {
   "cell_type": "code",
   "execution_count": null,
   "id": "5bf58b72",
   "metadata": {},
   "outputs": [],
   "source": []
  },
  {
   "cell_type": "markdown",
   "id": "2840938d",
   "metadata": {},
   "source": [
    "# self    argument\n",
    "    \n",
    "    * The first argument of the method of class is generally referred as 'self'.\n",
    "    * self refers to the calling object\n",
    "    * This argument is passed implicitely (INTERNALLY) by the python interpreter and need not to be mentioned while calling."
   ]
  },
  {
   "cell_type": "code",
   "execution_count": 31,
   "id": "ec56c16a",
   "metadata": {},
   "outputs": [],
   "source": [
    "class Car:\n",
    "    def describe(self):\n",
    "        print(\"Car name =\",self.name)\n",
    "        print(\"Car color =\",self.color)\n",
    "        print(\"Car age =\",self.age)\n",
    "        \n",
    "    def isBanned(self):\n",
    "        # return self.age > 15\n",
    "        if self.age > 15:\n",
    "            return True\n",
    "        else:\n",
    "            return False"
   ]
  },
  {
   "cell_type": "code",
   "execution_count": 32,
   "id": "1cf955dc",
   "metadata": {},
   "outputs": [],
   "source": [
    "benz = Car()\n",
    "benz.name = \"Mercedes\"\n",
    "benz.color = \"Silver\"\n",
    "benz.age = 3"
   ]
  },
  {
   "cell_type": "code",
   "execution_count": 36,
   "id": "7d1a44bd",
   "metadata": {},
   "outputs": [],
   "source": [
    "maruti = Car()\n",
    "maruti.name = \"Maruti 800\"\n",
    "maruti.color = \"Red\"\n",
    "maruti.age = 20"
   ]
  },
  {
   "cell_type": "code",
   "execution_count": 34,
   "id": "f8423086",
   "metadata": {},
   "outputs": [
    {
     "name": "stdout",
     "output_type": "stream",
     "text": [
      "Car name = Mercedes\n",
      "Car color = Silver\n",
      "Car age = 3\n"
     ]
    }
   ],
   "source": [
    "benz.describe()"
   ]
  },
  {
   "cell_type": "code",
   "execution_count": 37,
   "id": "b90e1061",
   "metadata": {},
   "outputs": [
    {
     "name": "stdout",
     "output_type": "stream",
     "text": [
      "Car name = Maruti 800\n",
      "Car color = Red\n",
      "Car age = 20\n"
     ]
    }
   ],
   "source": [
    "maruti.describe()"
   ]
  },
  {
   "cell_type": "code",
   "execution_count": null,
   "id": "13d261cf",
   "metadata": {},
   "outputs": [],
   "source": []
  },
  {
   "cell_type": "code",
   "execution_count": null,
   "id": "a2000cb6",
   "metadata": {},
   "outputs": [],
   "source": []
  },
  {
   "cell_type": "code",
   "execution_count": null,
   "id": "ebd5692f",
   "metadata": {},
   "outputs": [],
   "source": []
  },
  {
   "cell_type": "markdown",
   "id": "1cc37d83",
   "metadata": {},
   "source": [
    "# __init__()    Method\n",
    "\n",
    "    * __init__() is a special method inside a class that allow us to define\n",
    "    the properties/attributes while creating it.\n",
    "    * It is a special method that is called/invoked automatically when the object is created.\n",
    "    The user need not to call it.\n",
    "    * It is simillar to 'Constructors' in C++ and Java\n",
    "    \n",
    "    * Syntax:\n",
    "        \n",
    "        class Car:\n",
    "            def __init__(self):\n",
    "                ....initialization...."
   ]
  },
  {
   "cell_type": "code",
   "execution_count": 40,
   "id": "4469ffd4",
   "metadata": {},
   "outputs": [],
   "source": [
    "class Car:\n",
    "    def __init__(self, name, color, age):\n",
    "        self.name = name\n",
    "        self.color = color\n",
    "        self.age = age\n",
    "        \n"
   ]
  },
  {
   "cell_type": "code",
   "execution_count": 41,
   "id": "45856ab7",
   "metadata": {},
   "outputs": [],
   "source": [
    "benz = Car(\"Mercedes\", \"Silver\", 3)"
   ]
  },
  {
   "cell_type": "code",
   "execution_count": 42,
   "id": "7488489f",
   "metadata": {},
   "outputs": [
    {
     "data": {
      "text/plain": [
       "<__main__.Car at 0x1399c12b460>"
      ]
     },
     "execution_count": 42,
     "metadata": {},
     "output_type": "execute_result"
    }
   ],
   "source": [
    "benz"
   ]
  },
  {
   "cell_type": "code",
   "execution_count": 45,
   "id": "cb4e99fe",
   "metadata": {},
   "outputs": [
    {
     "name": "stdout",
     "output_type": "stream",
     "text": [
      "Mercedes Silver 3\n"
     ]
    }
   ],
   "source": [
    "print(benz.name, benz.color, benz.age)"
   ]
  },
  {
   "cell_type": "code",
   "execution_count": null,
   "id": "06095bcf",
   "metadata": {},
   "outputs": [],
   "source": [
    "benz.name"
   ]
  },
  {
   "cell_type": "code",
   "execution_count": 46,
   "id": "e1f51a9d",
   "metadata": {},
   "outputs": [],
   "source": [
    "## To give default arguments to the object we can simply give it in the __init__ function\n",
    "class Car:\n",
    "    def __init__(self, name = \"Maruti 800\", color = \"Red\", age = 20):\n",
    "        self.name = name\n",
    "        self.color = color\n",
    "        self.age = age"
   ]
  },
  {
   "cell_type": "code",
   "execution_count": 52,
   "id": "dd8e3aed",
   "metadata": {},
   "outputs": [
    {
     "name": "stdout",
     "output_type": "stream",
     "text": [
      "Mercedes Silver 3\n"
     ]
    }
   ],
   "source": [
    "benz = Car(\"Mercedes\", \"Silver\", 3)\n",
    "print(benz.name, benz.color, benz.age)"
   ]
  },
  {
   "cell_type": "code",
   "execution_count": 53,
   "id": "dded2397",
   "metadata": {},
   "outputs": [
    {
     "name": "stdout",
     "output_type": "stream",
     "text": [
      "Maruti 800 Red 20\n"
     ]
    }
   ],
   "source": [
    "maruti = Car()\n",
    "print(maruti.name, maruti.color, maruti.age)"
   ]
  },
  {
   "cell_type": "code",
   "execution_count": null,
   "id": "83e250f8",
   "metadata": {},
   "outputs": [],
   "source": []
  },
  {
   "cell_type": "code",
   "execution_count": 51,
   "id": "776f2d52",
   "metadata": {},
   "outputs": [],
   "source": [
    "class Car:\n",
    "    def __init__(self, name = \"Maruti 800\", color = \"Red\", age = 20):\n",
    "        self.name = name\n",
    "        self.color = color\n",
    "        self.age = age\n",
    "        \n",
    "    def describe(self):\n",
    "        print(\"Car name =\",self.name)\n",
    "        print(\"Car color =\",self.color)\n",
    "        print(\"Car age =\",self.age)\n",
    "        \n",
    "    def isBanned(self):\n",
    "        # return self.age > 15\n",
    "        if self.age > 15:\n",
    "            return True\n",
    "        else:\n",
    "            return False"
   ]
  },
  {
   "cell_type": "code",
   "execution_count": 54,
   "id": "029a900d",
   "metadata": {},
   "outputs": [
    {
     "name": "stdout",
     "output_type": "stream",
     "text": [
      "Mercedes Silver 3\n"
     ]
    }
   ],
   "source": [
    "print(benz.name, benz.color, benz.age)"
   ]
  },
  {
   "cell_type": "code",
   "execution_count": 55,
   "id": "e487a422",
   "metadata": {},
   "outputs": [
    {
     "data": {
      "text/plain": [
       "False"
      ]
     },
     "execution_count": 55,
     "metadata": {},
     "output_type": "execute_result"
    }
   ],
   "source": [
    "benz.isBanned()"
   ]
  },
  {
   "cell_type": "code",
   "execution_count": 56,
   "id": "64c25e7d",
   "metadata": {},
   "outputs": [
    {
     "data": {
      "text/plain": [
       "True"
      ]
     },
     "execution_count": 56,
     "metadata": {},
     "output_type": "execute_result"
    }
   ],
   "source": [
    "maruti.isBanned()"
   ]
  },
  {
   "cell_type": "code",
   "execution_count": 61,
   "id": "f9cbf3b9",
   "metadata": {},
   "outputs": [],
   "source": [
    "Car?"
   ]
  },
  {
   "cell_type": "code",
   "execution_count": 59,
   "id": "9f4d4bf4",
   "metadata": {},
   "outputs": [],
   "source": [
    "benz?"
   ]
  },
  {
   "cell_type": "code",
   "execution_count": 60,
   "id": "cc5c22c2",
   "metadata": {},
   "outputs": [],
   "source": [
    "maruti?"
   ]
  },
  {
   "cell_type": "code",
   "execution_count": null,
   "id": "c7fa2c19",
   "metadata": {},
   "outputs": [],
   "source": []
  },
  {
   "cell_type": "markdown",
   "id": "84ddc792",
   "metadata": {},
   "source": [
    "## Break in lecture"
   ]
  },
  {
   "cell_type": "markdown",
   "id": "9f6c11cb",
   "metadata": {},
   "source": [
    "##  I'm working at Hogwarts and I want to create a data base for wizards"
   ]
  },
  {
   "cell_type": "code",
   "execution_count": 1,
   "id": "472f6e86",
   "metadata": {},
   "outputs": [],
   "source": [
    "class Wizards:\n",
    "    def __init__(self, name, age, spell):\n",
    "        self.name = name\n",
    "        self.age = age\n",
    "        self.spell = spell\n",
    "        \n",
    "    def magic(self):\n",
    "        print(\"Caste spell -\", self.spell)\n",
    "\n",
    "        # This magic function allows me to cast spell\n",
    "        \n"
   ]
  },
  {
   "cell_type": "code",
   "execution_count": 5,
   "id": "42867cb3",
   "metadata": {},
   "outputs": [],
   "source": [
    "harry = Wizards(\"Harry Potter\", 18, \"Expelliarmus\")\n",
    "\n",
    "# Type of the object harry is Wizards as th name of class itself"
   ]
  },
  {
   "cell_type": "code",
   "execution_count": 6,
   "id": "a67332ce",
   "metadata": {},
   "outputs": [
    {
     "name": "stdout",
     "output_type": "stream",
     "text": [
      "Caste spell - Expelliarmus\n"
     ]
    }
   ],
   "source": [
    "harry.magic()"
   ]
  },
  {
   "cell_type": "code",
   "execution_count": 7,
   "id": "691eb434",
   "metadata": {},
   "outputs": [],
   "source": [
    "voldy = Wizards(\"He who must not be named\", 76, \"Avada Kadavra\")"
   ]
  },
  {
   "cell_type": "code",
   "execution_count": 8,
   "id": "b2dcf7dc",
   "metadata": {},
   "outputs": [
    {
     "name": "stdout",
     "output_type": "stream",
     "text": [
      "Caste spell - Avada Kadavra\n"
     ]
    }
   ],
   "source": [
    "voldy.magic()"
   ]
  },
  {
   "cell_type": "markdown",
   "id": "c629c142",
   "metadata": {},
   "source": [
    "\n",
    "# Encapsulation\n",
    "\n",
    "    Wrapping up the data properties ( variables) and Associated methods (Functions) inside \n",
    "    a Class ( in a single entity) together.\n",
    "    "
   ]
  },
  {
   "cell_type": "code",
   "execution_count": null,
   "id": "7c8b9404",
   "metadata": {},
   "outputs": [],
   "source": []
  },
  {
   "cell_type": "code",
   "execution_count": null,
   "id": "4e9af2ae",
   "metadata": {},
   "outputs": [],
   "source": []
  },
  {
   "cell_type": "markdown",
   "id": "64d7d759",
   "metadata": {},
   "source": [
    "# Data Abstraction\n",
    "    \n",
    "       Act of hiding the inner workings of the class."
   ]
  },
  {
   "cell_type": "code",
   "execution_count": null,
   "id": "c8b6028e",
   "metadata": {},
   "outputs": [],
   "source": []
  },
  {
   "cell_type": "code",
   "execution_count": null,
   "id": "aa4cd7e9",
   "metadata": {},
   "outputs": [],
   "source": []
  },
  {
   "cell_type": "markdown",
   "id": "a1450d37",
   "metadata": {},
   "source": [
    "# Modularity\n",
    "Dividing your code in blocks of classes - Functions"
   ]
  },
  {
   "cell_type": "code",
   "execution_count": null,
   "id": "6cbabaa1",
   "metadata": {},
   "outputs": [],
   "source": []
  },
  {
   "cell_type": "code",
   "execution_count": null,
   "id": "c815e4ea",
   "metadata": {},
   "outputs": [],
   "source": []
  },
  {
   "cell_type": "markdown",
   "id": "1679f581",
   "metadata": {},
   "source": [
    "# Everything in Python is an Object"
   ]
  },
  {
   "cell_type": "code",
   "execution_count": null,
   "id": "71022ed3",
   "metadata": {},
   "outputs": [],
   "source": []
  },
  {
   "cell_type": "code",
   "execution_count": 11,
   "id": "fae50f17",
   "metadata": {},
   "outputs": [],
   "source": [
    "a = 55"
   ]
  },
  {
   "cell_type": "code",
   "execution_count": 13,
   "id": "dd5eba57",
   "metadata": {},
   "outputs": [
    {
     "name": "stdout",
     "output_type": "stream",
     "text": [
      "<class 'int'>\n"
     ]
    }
   ],
   "source": [
    "print(type(a))"
   ]
  },
  {
   "cell_type": "code",
   "execution_count": 15,
   "id": "2cb8ab37",
   "metadata": {},
   "outputs": [
    {
     "name": "stdout",
     "output_type": "stream",
     "text": [
      "<class 'function'>\n",
      "<class 'str'>\n",
      "<class 'float'>\n"
     ]
    }
   ],
   "source": [
    "b = 'hello'\n",
    "c = 23.434\n",
    "\n",
    "\n",
    "def hello():\n",
    "    print(\"Hello\")\n",
    "\n",
    "print(type(hello))\n",
    "print(type(b))\n",
    "print(type(c))"
   ]
  },
  {
   "cell_type": "code",
   "execution_count": null,
   "id": "d1d00a7c",
   "metadata": {},
   "outputs": [],
   "source": []
  },
  {
   "cell_type": "markdown",
   "id": "6ec1a387",
   "metadata": {},
   "source": [
    "## OOPS Concepts\n",
    "\n",
    "DEMPI\n",
    "1. Data Abstraction\n",
    "2. Encapsulation\n",
    "3. Modularity\n",
    "4. Polymorphism\n",
    "5. Inheritance"
   ]
  },
  {
   "cell_type": "code",
   "execution_count": null,
   "id": "8dbbc6d1",
   "metadata": {},
   "outputs": [],
   "source": []
  },
  {
   "cell_type": "code",
   "execution_count": null,
   "id": "935fab7a",
   "metadata": {},
   "outputs": [],
   "source": []
  }
 ],
 "metadata": {
  "kernelspec": {
   "display_name": "Python 3 (ipykernel)",
   "language": "python",
   "name": "python3"
  },
  "language_info": {
   "codemirror_mode": {
    "name": "ipython",
    "version": 3
   },
   "file_extension": ".py",
   "mimetype": "text/x-python",
   "name": "python",
   "nbconvert_exporter": "python",
   "pygments_lexer": "ipython3",
   "version": "3.10.0"
  }
 },
 "nbformat": 4,
 "nbformat_minor": 5
}
