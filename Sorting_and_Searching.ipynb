{
 "cells": [
  {
   "cell_type": "code",
   "execution_count": 1,
   "id": "a23e8a0f",
   "metadata": {},
   "outputs": [],
   "source": [
    "a = [4,5,8,1,9,15]"
   ]
  },
  {
   "cell_type": "code",
   "execution_count": null,
   "id": "273069cb",
   "metadata": {},
   "outputs": [],
   "source": [
    "# If anyone asks to sort \n",
    "# then it is always in the increasing order "
   ]
  },
  {
   "cell_type": "markdown",
   "id": "7d81b234",
   "metadata": {},
   "source": [
    "## inbult sorting method\n"
   ]
  },
  {
   "cell_type": "markdown",
   "id": "bb793ee7",
   "metadata": {},
   "source": [
    "### sort() method"
   ]
  },
  {
   "cell_type": "code",
   "execution_count": 8,
   "id": "7b1aa7ff",
   "metadata": {},
   "outputs": [],
   "source": [
    "a = [4,5,8,1,9,15]\n",
    "a.sort()\n",
    "# Sorts the list that it is called upon \n",
    "# do not retain the original data"
   ]
  },
  {
   "cell_type": "code",
   "execution_count": 9,
   "id": "ee5fd543",
   "metadata": {},
   "outputs": [
    {
     "data": {
      "text/plain": [
       "[1, 4, 5, 8, 9, 15]"
      ]
     },
     "execution_count": 9,
     "metadata": {},
     "output_type": "execute_result"
    }
   ],
   "source": [
    "a"
   ]
  },
  {
   "cell_type": "code",
   "execution_count": null,
   "id": "57c52734",
   "metadata": {},
   "outputs": [],
   "source": []
  },
  {
   "cell_type": "markdown",
   "id": "893fed8a",
   "metadata": {},
   "source": [
    "## sorted() Method"
   ]
  },
  {
   "cell_type": "code",
   "execution_count": 10,
   "id": "f83448af",
   "metadata": {},
   "outputs": [],
   "source": [
    "a = [4,5,8,1,9,15]\n",
    "b = sorted(a)\n",
    "## It keeps the original list intact and creat a new copy of sorted elements"
   ]
  },
  {
   "cell_type": "code",
   "execution_count": 11,
   "id": "760f6e01",
   "metadata": {},
   "outputs": [
    {
     "data": {
      "text/plain": [
       "[1, 4, 5, 8, 9, 15]"
      ]
     },
     "execution_count": 11,
     "metadata": {},
     "output_type": "execute_result"
    }
   ],
   "source": [
    "b"
   ]
  },
  {
   "cell_type": "code",
   "execution_count": 20,
   "id": "521e9095",
   "metadata": {},
   "outputs": [],
   "source": [
    "b = a.sort()\n",
    "## sort() function does not return anything so it will give output as None"
   ]
  },
  {
   "cell_type": "code",
   "execution_count": 21,
   "id": "2b030b68",
   "metadata": {},
   "outputs": [
    {
     "name": "stdout",
     "output_type": "stream",
     "text": [
      "None\n"
     ]
    }
   ],
   "source": [
    "print(b)"
   ]
  },
  {
   "cell_type": "markdown",
   "id": "a6b1fe1e",
   "metadata": {},
   "source": [
    "\n",
    "### for decreasing order"
   ]
  },
  {
   "cell_type": "code",
   "execution_count": 22,
   "id": "ca9bb8ce",
   "metadata": {},
   "outputs": [],
   "source": [
    "b = sorted(a, reverse = True)"
   ]
  },
  {
   "cell_type": "code",
   "execution_count": 23,
   "id": "1f288d1f",
   "metadata": {},
   "outputs": [
    {
     "name": "stdout",
     "output_type": "stream",
     "text": [
      "[15, 9, 8, 5, 4, 1]\n"
     ]
    }
   ],
   "source": [
    "print(b)"
   ]
  },
  {
   "cell_type": "code",
   "execution_count": null,
   "id": "a4cab068",
   "metadata": {},
   "outputs": [],
   "source": []
  },
  {
   "cell_type": "markdown",
   "id": "d09ee7d8",
   "metadata": {},
   "source": [
    "### Time complexity for both is = O(n log n)\n",
    "Tim sort"
   ]
  },
  {
   "cell_type": "code",
   "execution_count": null,
   "id": "d917d2e7",
   "metadata": {},
   "outputs": [],
   "source": []
  },
  {
   "cell_type": "code",
   "execution_count": null,
   "id": "b683d785",
   "metadata": {},
   "outputs": [],
   "source": []
  },
  {
   "cell_type": "code",
   "execution_count": null,
   "id": "a711fd05",
   "metadata": {},
   "outputs": [],
   "source": []
  },
  {
   "cell_type": "code",
   "execution_count": null,
   "id": "02bf9e1e",
   "metadata": {},
   "outputs": [],
   "source": []
  },
  {
   "cell_type": "code",
   "execution_count": null,
   "id": "ef001ce3",
   "metadata": {},
   "outputs": [],
   "source": []
  },
  {
   "cell_type": "code",
   "execution_count": null,
   "id": "3b1fc230",
   "metadata": {},
   "outputs": [],
   "source": []
  },
  {
   "cell_type": "markdown",
   "id": "48c7acb9",
   "metadata": {},
   "source": [
    "# Bubble Sort"
   ]
  },
  {
   "cell_type": "code",
   "execution_count": null,
   "id": "b5e0137d",
   "metadata": {},
   "outputs": [],
   "source": [
    "     "
   ]
  },
  {
   "cell_type": "code",
   "execution_count": 31,
   "id": "beb4b477",
   "metadata": {},
   "outputs": [],
   "source": [
    "a = [4, 2, 5, 10, 1, 3]"
   ]
  },
  {
   "cell_type": "code",
   "execution_count": 25,
   "id": "a4aec3ab",
   "metadata": {},
   "outputs": [],
   "source": [
    "n =len(a)"
   ]
  },
  {
   "cell_type": "code",
   "execution_count": 33,
   "id": "8054026f",
   "metadata": {},
   "outputs": [],
   "source": [
    "for i in range(n):\n",
    "    for j in range(0, (n-1)):\n",
    "#         Pick two consecutive elements.\n",
    "#         If they are not in correct order then SWAP them\n",
    "        if a[j] > a[j+1]:\n",
    "            a[j],a[j+1] = a[j+1],a[j]\n",
    "            "
   ]
  },
  {
   "cell_type": "code",
   "execution_count": 34,
   "id": "7808c979",
   "metadata": {},
   "outputs": [
    {
     "data": {
      "text/plain": [
       "[1, 2, 3, 4, 5, 10]"
      ]
     },
     "execution_count": 34,
     "metadata": {},
     "output_type": "execute_result"
    }
   ],
   "source": [
    "a"
   ]
  },
  {
   "cell_type": "code",
   "execution_count": 35,
   "id": "24431fbb",
   "metadata": {},
   "outputs": [
    {
     "name": "stdout",
     "output_type": "stream",
     "text": [
      "2 5\n"
     ]
    }
   ],
   "source": [
    "## SWAP logic\n",
    "x = 5\n",
    "y = 2\n",
    "\n",
    "x,y = y, x\n",
    "print(x, y)"
   ]
  },
  {
   "cell_type": "markdown",
   "id": "39fdc25d",
   "metadata": {},
   "source": [
    "### Time Complexity\n",
    "\n",
    "#### Worst Case - O(n^2)\n",
    "#### Best Case - O(n^2)    __after Optimization -> O(n)\n"
   ]
  },
  {
   "cell_type": "markdown",
   "id": "633f34ae",
   "metadata": {},
   "source": [
    "##### HOME WORK : Try Out Optimization on your OWN and then move to  Online/Google"
   ]
  },
  {
   "cell_type": "code",
   "execution_count": null,
   "id": "c43c7ea0",
   "metadata": {},
   "outputs": [],
   "source": []
  },
  {
   "cell_type": "code",
   "execution_count": null,
   "id": "0745732b",
   "metadata": {},
   "outputs": [],
   "source": []
  },
  {
   "cell_type": "code",
   "execution_count": null,
   "id": "3eb26bf9",
   "metadata": {},
   "outputs": [],
   "source": []
  },
  {
   "cell_type": "code",
   "execution_count": null,
   "id": "b28cbe3c",
   "metadata": {},
   "outputs": [],
   "source": []
  },
  {
   "cell_type": "markdown",
   "id": "b987b74c",
   "metadata": {},
   "source": [
    "# Searching"
   ]
  },
  {
   "cell_type": "markdown",
   "id": "20087179",
   "metadata": {},
   "source": [
    "## Linear Search"
   ]
  },
  {
   "cell_type": "code",
   "execution_count": 36,
   "id": "fc98db5a",
   "metadata": {},
   "outputs": [],
   "source": [
    "a = [4,2,5,6,12,7,1,-1]\n",
    "key = 5\n",
    "\n",
    "# Check if the key (5) is present in the list (a) and return the index as well"
   ]
  },
  {
   "cell_type": "code",
   "execution_count": 40,
   "id": "d8f2123f",
   "metadata": {},
   "outputs": [
    {
     "name": "stdout",
     "output_type": "stream",
     "text": [
      "Found at index 2\n"
     ]
    }
   ],
   "source": [
    "ans = -1 # as Index can never be -ve so initialize the answer with -1\n",
    "for i in range(len(a)):\n",
    "    if a[i] == key:\n",
    "        ans = i\n",
    "        break\n",
    "        \n",
    "if ans  == -1:\n",
    "    print(\"Not Found.\")\n",
    "else:\n",
    "    print(\"Found at index\",ans)"
   ]
  },
  {
   "cell_type": "code",
   "execution_count": null,
   "id": "2e707f83",
   "metadata": {},
   "outputs": [],
   "source": []
  },
  {
   "cell_type": "markdown",
   "id": "1f70fbfb",
   "metadata": {},
   "source": [
    "## Enumarate\n",
    "### A special function that allows us to iterate over a list\n",
    "If you are interested in reading both the INDEX and the VALUE AT THAT INDEX\n",
    "then you can use the inumerate"
   ]
  },
  {
   "cell_type": "code",
   "execution_count": 44,
   "id": "3bb9877c",
   "metadata": {},
   "outputs": [
    {
     "name": "stdout",
     "output_type": "stream",
     "text": [
      "i = 0  num = 4\n",
      "i = 1  num = 2\n",
      "i = 2  num = 5\n",
      "i = 3  num = 6\n",
      "i = 4  num = 12\n",
      "i = 5  num = 7\n",
      "i = 6  num = 1\n",
      "i = 7  num = -1\n"
     ]
    }
   ],
   "source": [
    "# i and Num \n",
    "# 0      4,\n",
    "# 1      2,\n",
    "# 2      5,\n",
    "# 3      6,\n",
    "# 4      12,\n",
    "# 5      7,\n",
    "# 6      1,\n",
    "# 7      -1\n",
    "for i, num in enumerate(a):\n",
    "    print(\"i =\",i,\" num =\",num)"
   ]
  },
  {
   "cell_type": "code",
   "execution_count": 42,
   "id": "7da8c7a6",
   "metadata": {},
   "outputs": [
    {
     "name": "stdout",
     "output_type": "stream",
     "text": [
      "Found at index 2\n"
     ]
    }
   ],
   "source": [
    "ans = -1\n",
    "for i, num in enumerate(a):\n",
    "    if num == key:\n",
    "        ans = i\n",
    "        break\n",
    "        \n",
    "if ans  == -1:\n",
    "    print(\"Not Found.\")\n",
    "else:\n",
    "    print(\"Found at index\",ans)"
   ]
  },
  {
   "cell_type": "markdown",
   "id": "931b1a9c",
   "metadata": {},
   "source": [
    "### Time Complexity  = O(n)\n"
   ]
  },
  {
   "cell_type": "code",
   "execution_count": null,
   "id": "143b6020",
   "metadata": {},
   "outputs": [],
   "source": []
  },
  {
   "cell_type": "markdown",
   "id": "7c7220be",
   "metadata": {},
   "source": [
    "# Binary Search"
   ]
  },
  {
   "cell_type": "markdown",
   "id": "ef46dc0e",
   "metadata": {},
   "source": [
    "Binary search is a Divide and Conquer Algorithm"
   ]
  },
  {
   "cell_type": "code",
   "execution_count": 2,
   "id": "c756e431",
   "metadata": {},
   "outputs": [],
   "source": [
    "a = [1, 5, 7, 10, 15, 20, 23]\n",
    "\n",
    "target = 7\n",
    "\n",
    "n = len(a)"
   ]
  },
  {
   "cell_type": "code",
   "execution_count": 6,
   "id": "e05e3538",
   "metadata": {},
   "outputs": [
    {
     "name": "stdout",
     "output_type": "stream",
     "text": [
      "The target 7 Found at index 2\n"
     ]
    }
   ],
   "source": [
    "start = 0\n",
    "end = n-1\n",
    "\n",
    "ans = -1\n",
    "\n",
    "while  start <= end:\n",
    "    mid = (start + end) // 2\n",
    "#     I found my target at mid \n",
    "    if a[mid] == target:\n",
    "        ans = mid\n",
    "        break\n",
    "#     The number at mid is greater than target number\n",
    "    elif a[mid] > target:\n",
    "#         Search in the left part\n",
    "        end = mid - 1\n",
    "#     The mid is less than target number\n",
    "    else:\n",
    "#         Search in the right part\n",
    "        start = mid + 1\n",
    "        \n",
    "    \n",
    "if ans == -1:\n",
    "    print(\"Not Found.\")\n",
    "else:\n",
    "    print(\"The target\",target,\"Found at index\",ans)"
   ]
  },
  {
   "cell_type": "markdown",
   "id": "6ab580c7",
   "metadata": {},
   "source": [
    "## Time Complexity = O(log (base 2) n)"
   ]
  },
  {
   "cell_type": "code",
   "execution_count": null,
   "id": "675aebe2",
   "metadata": {},
   "outputs": [],
   "source": []
  },
  {
   "cell_type": "code",
   "execution_count": null,
   "id": "4c814356",
   "metadata": {},
   "outputs": [],
   "source": []
  },
  {
   "cell_type": "markdown",
   "id": "80cef2c7",
   "metadata": {},
   "source": [
    "### Given an array (unsorted) and target number\n",
    "\n",
    "1. Linear Search\n",
    "2. Sort + Binary Search"
   ]
  },
  {
   "cell_type": "code",
   "execution_count": null,
   "id": "fab83669",
   "metadata": {},
   "outputs": [],
   "source": []
  },
  {
   "cell_type": "code",
   "execution_count": null,
   "id": "db795025",
   "metadata": {},
   "outputs": [],
   "source": []
  },
  {
   "cell_type": "markdown",
   "id": "5a6bedf6",
   "metadata": {},
   "source": [
    "## Duplicate Elements - lowerbound, upperbound"
   ]
  },
  {
   "cell_type": "code",
   "execution_count": 16,
   "id": "9f263c95",
   "metadata": {},
   "outputs": [],
   "source": [
    "a = [1,2,2,2,2,3,3,3,4,4,4,5,6,7,7,7,8]\n",
    "\n",
    "target = 3\n",
    "\n",
    "n = len(a)"
   ]
  },
  {
   "cell_type": "markdown",
   "id": "08c7c496",
   "metadata": {},
   "source": [
    "### Lowerbound - Index of first occurence"
   ]
  },
  {
   "cell_type": "code",
   "execution_count": 18,
   "id": "662ce791",
   "metadata": {},
   "outputs": [
    {
     "name": "stdout",
     "output_type": "stream",
     "text": [
      "[5] \n",
      " 5\n"
     ]
    }
   ],
   "source": [
    "start = 0\n",
    "end = n-1\n",
    "\n",
    "ans = []\n",
    "\n",
    "while  start <= end:\n",
    "    mid = (start + end) // 2\n",
    "    if a[mid] == target:\n",
    "        ans.append(mid)\n",
    "        end = mid - 1\n",
    "#         break\n",
    "    elif a[mid] > target:\n",
    "        end = mid - 1\n",
    "    else:\n",
    "        start = mid + 1\n",
    "        \n",
    "ans.sort()\n",
    "print(ans,\"\\n\",ans[0])\n",
    "    \n",
    "# if ans == -1:\n",
    "#     print(\"Not Found.\")\n",
    "# else:\n",
    "#     print(\"The target\",target,\"Found at index\",ans)"
   ]
  },
  {
   "cell_type": "markdown",
   "id": "7e441a45",
   "metadata": {},
   "source": [
    "### Upperbound - Index of last occurence"
   ]
  },
  {
   "cell_type": "code",
   "execution_count": 19,
   "id": "539db00e",
   "metadata": {},
   "outputs": [],
   "source": [
    "a = [1,2,2,2,2,3,3,3,4,4,4,5,6,7,7,7,8]\n",
    "\n",
    "target = 3\n",
    "\n",
    "n = len(a)"
   ]
  },
  {
   "cell_type": "code",
   "execution_count": 21,
   "id": "fb5e982a",
   "metadata": {},
   "outputs": [
    {
     "name": "stdout",
     "output_type": "stream",
     "text": [
      "[5, 6, 7] \n",
      " 7\n"
     ]
    }
   ],
   "source": [
    "start = 0\n",
    "end = n-1\n",
    "\n",
    "ans = []\n",
    "\n",
    "while  start <= end:\n",
    "    mid = (start + end) // 2\n",
    "    if a[mid] == target:\n",
    "        ans.append(mid)\n",
    "        start = mid + 1\n",
    "#         break\n",
    "    elif a[mid] > target:\n",
    "        end = mid - 1\n",
    "    else:\n",
    "        start = mid + 1\n",
    "        \n",
    "ans.sort()\n",
    "print(ans,\"\\n\",ans[-1])\n",
    "    \n",
    "# if ans == -1:\n",
    "#     print(\"Not Found.\")\n",
    "# else:\n",
    "#     print(\"The target\",target,\"Found at index\",ans)"
   ]
  },
  {
   "cell_type": "code",
   "execution_count": null,
   "id": "81d72bee",
   "metadata": {},
   "outputs": [],
   "source": []
  }
 ],
 "metadata": {
  "kernelspec": {
   "display_name": "Python 3 (ipykernel)",
   "language": "python",
   "name": "python3"
  },
  "language_info": {
   "codemirror_mode": {
    "name": "ipython",
    "version": 3
   },
   "file_extension": ".py",
   "mimetype": "text/x-python",
   "name": "python",
   "nbconvert_exporter": "python",
   "pygments_lexer": "ipython3",
   "version": "3.10.0"
  }
 },
 "nbformat": 4,
 "nbformat_minor": 5
}
